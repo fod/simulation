{
 "cells": [
  {
   "cell_type": "markdown",
   "id": "33ed519f-76be-4a79-843e-202c9fda336b",
   "metadata": {},
   "source": [
    "# Simulation\n",
    "\n",
    "This notebook simulates one year of data at Cork Airport, Ireland. About fifty years of historical weather data from hundreds of weather stations around Ireland is available from the Met Eireann website [1]. To perform this simulation, a subset of the data available from Cork Airport is used to identify the features of a few of the variables from that data."
   ]
  },
  {
   "cell_type": "code",
   "execution_count": 2,
   "id": "2ae8ae1e-f20d-4381-ad47-5fb7148cfed7",
   "metadata": {},
   "outputs": [],
   "source": [
    "# imports\n",
    "# numerical computing\n",
    "import numpy as np\n",
    "# pseudo-random number generation\n",
    "from numpy.random import default_rng\n",
    "# data management and manipulation\n",
    "import pandas as pd \n",
    "# plotting\n",
    "import matplotlib.pyplot as plt\n",
    "import seaborn as sns"
   ]
  },
  {
   "cell_type": "code",
   "execution_count": 3,
   "id": "5a98a18f",
   "metadata": {},
   "outputs": [],
   "source": [
    "# initialise the random number generator\n",
    "# seeded for reproducibility\n",
    "rng = default_rng(99)"
   ]
  },
  {
   "cell_type": "markdown",
   "id": "7ff172aa",
   "metadata": {},
   "source": [
    "First the data is downloaded. The Met Eireann website provides it as a csv file and some text files zipped together. This was done manually, with the downloaded archive unzipped to the `data/` directory. The entire dataset from 1962 to present was downloaded, and is present in the `data/` folder, but only four variables tracked over the course of one year will be used her. The four variables used will be:\n",
    "- Minimum temperature (°C)\n",
    "- Maximum temperature (°C)\n",
    "- Precipitation Amount (mm)\n",
    "- Sunshine duration (hours)\n",
    "\n",
    "There is one record for each day and the date will be used to index the DataFrame. The dataset will be subset to include all records from 01-12-2020 to 30-11-2021; 365 records. For convenience, a month column will be added.\n",
    "\n",
    "The purpose of this dataset is to examine the nature of each meteorological phenomenon with a view to creating random data representing one year of the same phenomena that is indistinguishable from the real data.\n",
    "\n",
    "Next, the data is loaded into a DataFrame:"
   ]
  },
  {
   "cell_type": "code",
   "execution_count": 4,
   "id": "6bcc5906",
   "metadata": {},
   "outputs": [],
   "source": [
    "# Read csv to dataframe\n",
    "df = pd.read_csv('data/source/dly3904.csv', header=21)\n",
    "# subset the columns of interest\n",
    "df = df[['date', 'maxtp', 'mintp', 'rain', 'sun']]\n",
    "# cast date column as date type\n",
    "df['date'] = pd.to_datetime(df['date'])\n",
    "# subset to one year of data\n",
    "one_year = (df['date'] >= '2020-12-1') & (df['date'] <= '2021-11-30')\n",
    "df = df.loc[one_year]\n",
    "# Set date as index\n",
    "df.set_index('date', inplace=True)\n",
    "# cast sun and ran as floats\n",
    "df = df.astype({'rain': 'float64', 'sun': 'float64'})\n",
    "# add a month column\n",
    "df['month'] = pd.DatetimeIndex(df.index).month_name()"
   ]
  },
  {
   "cell_type": "code",
   "execution_count": 5,
   "id": "3ab0dc34",
   "metadata": {},
   "outputs": [
    {
     "name": "stdout",
     "output_type": "stream",
     "text": [
      "<class 'pandas.core.frame.DataFrame'>\n",
      "DatetimeIndex: 365 entries, 2020-12-01 to 2021-11-30\n",
      "Data columns (total 5 columns):\n",
      " #   Column  Non-Null Count  Dtype  \n",
      "---  ------  --------------  -----  \n",
      " 0   maxtp   365 non-null    float64\n",
      " 1   mintp   365 non-null    float64\n",
      " 2   rain    365 non-null    float64\n",
      " 3   sun     365 non-null    float64\n",
      " 4   month   365 non-null    object \n",
      "dtypes: float64(4), object(1)\n",
      "memory usage: 17.1+ KB\n"
     ]
    }
   ],
   "source": [
    "# Dataframe information\n",
    "df.info()"
   ]
  },
  {
   "cell_type": "code",
   "execution_count": 6,
   "id": "987b75cc",
   "metadata": {},
   "outputs": [
    {
     "data": {
      "text/html": [
       "<div>\n",
       "<style scoped>\n",
       "    .dataframe tbody tr th:only-of-type {\n",
       "        vertical-align: middle;\n",
       "    }\n",
       "\n",
       "    .dataframe tbody tr th {\n",
       "        vertical-align: top;\n",
       "    }\n",
       "\n",
       "    .dataframe thead th {\n",
       "        text-align: right;\n",
       "    }\n",
       "</style>\n",
       "<table border=\"1\" class=\"dataframe\">\n",
       "  <thead>\n",
       "    <tr style=\"text-align: right;\">\n",
       "      <th></th>\n",
       "      <th>maxtp</th>\n",
       "      <th>mintp</th>\n",
       "      <th>rain</th>\n",
       "      <th>sun</th>\n",
       "      <th>month</th>\n",
       "    </tr>\n",
       "    <tr>\n",
       "      <th>date</th>\n",
       "      <th></th>\n",
       "      <th></th>\n",
       "      <th></th>\n",
       "      <th></th>\n",
       "      <th></th>\n",
       "    </tr>\n",
       "  </thead>\n",
       "  <tbody>\n",
       "    <tr>\n",
       "      <th>2020-12-01</th>\n",
       "      <td>12.0</td>\n",
       "      <td>7.7</td>\n",
       "      <td>0.0</td>\n",
       "      <td>2.0</td>\n",
       "      <td>December</td>\n",
       "    </tr>\n",
       "    <tr>\n",
       "      <th>2020-12-02</th>\n",
       "      <td>9.0</td>\n",
       "      <td>4.0</td>\n",
       "      <td>0.1</td>\n",
       "      <td>1.0</td>\n",
       "      <td>December</td>\n",
       "    </tr>\n",
       "    <tr>\n",
       "      <th>2020-12-03</th>\n",
       "      <td>5.3</td>\n",
       "      <td>0.1</td>\n",
       "      <td>1.9</td>\n",
       "      <td>3.0</td>\n",
       "      <td>December</td>\n",
       "    </tr>\n",
       "    <tr>\n",
       "      <th>2020-12-04</th>\n",
       "      <td>6.2</td>\n",
       "      <td>0.8</td>\n",
       "      <td>1.5</td>\n",
       "      <td>4.8</td>\n",
       "      <td>December</td>\n",
       "    </tr>\n",
       "    <tr>\n",
       "      <th>2020-12-05</th>\n",
       "      <td>6.6</td>\n",
       "      <td>4.7</td>\n",
       "      <td>0.9</td>\n",
       "      <td>0.9</td>\n",
       "      <td>December</td>\n",
       "    </tr>\n",
       "  </tbody>\n",
       "</table>\n",
       "</div>"
      ],
      "text/plain": [
       "            maxtp  mintp  rain  sun     month\n",
       "date                                         \n",
       "2020-12-01   12.0    7.7   0.0  2.0  December\n",
       "2020-12-02    9.0    4.0   0.1  1.0  December\n",
       "2020-12-03    5.3    0.1   1.9  3.0  December\n",
       "2020-12-04    6.2    0.8   1.5  4.8  December\n",
       "2020-12-05    6.6    4.7   0.9  0.9  December"
      ]
     },
     "execution_count": 6,
     "metadata": {},
     "output_type": "execute_result"
    }
   ],
   "source": [
    "# Take a look at the data\n",
    "df.head()"
   ]
  },
  {
   "cell_type": "code",
   "execution_count": 7,
   "id": "38035f96",
   "metadata": {},
   "outputs": [
    {
     "data": {
      "text/html": [
       "<div>\n",
       "<style scoped>\n",
       "    .dataframe tbody tr th:only-of-type {\n",
       "        vertical-align: middle;\n",
       "    }\n",
       "\n",
       "    .dataframe tbody tr th {\n",
       "        vertical-align: top;\n",
       "    }\n",
       "\n",
       "    .dataframe thead th {\n",
       "        text-align: right;\n",
       "    }\n",
       "</style>\n",
       "<table border=\"1\" class=\"dataframe\">\n",
       "  <thead>\n",
       "    <tr style=\"text-align: right;\">\n",
       "      <th></th>\n",
       "      <th>maxtp</th>\n",
       "      <th>mintp</th>\n",
       "      <th>rain</th>\n",
       "      <th>sun</th>\n",
       "    </tr>\n",
       "  </thead>\n",
       "  <tbody>\n",
       "    <tr>\n",
       "      <th>count</th>\n",
       "      <td>365.00</td>\n",
       "      <td>365.00</td>\n",
       "      <td>365.00</td>\n",
       "      <td>365.00</td>\n",
       "    </tr>\n",
       "    <tr>\n",
       "      <th>mean</th>\n",
       "      <td>13.10</td>\n",
       "      <td>7.00</td>\n",
       "      <td>3.51</td>\n",
       "      <td>4.25</td>\n",
       "    </tr>\n",
       "    <tr>\n",
       "      <th>std</th>\n",
       "      <td>4.97</td>\n",
       "      <td>4.47</td>\n",
       "      <td>6.21</td>\n",
       "      <td>4.03</td>\n",
       "    </tr>\n",
       "    <tr>\n",
       "      <th>min</th>\n",
       "      <td>1.90</td>\n",
       "      <td>-2.70</td>\n",
       "      <td>0.00</td>\n",
       "      <td>0.00</td>\n",
       "    </tr>\n",
       "    <tr>\n",
       "      <th>25%</th>\n",
       "      <td>9.70</td>\n",
       "      <td>3.50</td>\n",
       "      <td>0.00</td>\n",
       "      <td>0.40</td>\n",
       "    </tr>\n",
       "    <tr>\n",
       "      <th>50%</th>\n",
       "      <td>12.80</td>\n",
       "      <td>6.70</td>\n",
       "      <td>0.60</td>\n",
       "      <td>3.20</td>\n",
       "    </tr>\n",
       "    <tr>\n",
       "      <th>75%</th>\n",
       "      <td>16.80</td>\n",
       "      <td>11.00</td>\n",
       "      <td>4.60</td>\n",
       "      <td>7.00</td>\n",
       "    </tr>\n",
       "    <tr>\n",
       "      <th>max</th>\n",
       "      <td>25.70</td>\n",
       "      <td>17.40</td>\n",
       "      <td>50.10</td>\n",
       "      <td>15.20</td>\n",
       "    </tr>\n",
       "  </tbody>\n",
       "</table>\n",
       "</div>"
      ],
      "text/plain": [
       "        maxtp   mintp    rain     sun\n",
       "count  365.00  365.00  365.00  365.00\n",
       "mean    13.10    7.00    3.51    4.25\n",
       "std      4.97    4.47    6.21    4.03\n",
       "min      1.90   -2.70    0.00    0.00\n",
       "25%      9.70    3.50    0.00    0.40\n",
       "50%     12.80    6.70    0.60    3.20\n",
       "75%     16.80   11.00    4.60    7.00\n",
       "max     25.70   17.40   50.10   15.20"
      ]
     },
     "execution_count": 7,
     "metadata": {},
     "output_type": "execute_result"
    }
   ],
   "source": [
    "# view some descriptive statistics\n",
    "np.round(df.describe(), 2)"
   ]
  },
  {
   "cell_type": "markdown",
   "id": "5b5173bb",
   "metadata": {},
   "source": [
    "Overall, the distributions of the data are difficult to pin down visually. It seems likely that a stepwise simulation might be more appropriate than a random distribution."
   ]
  },
  {
   "cell_type": "code",
   "execution_count": 8,
   "id": "5ade373c",
   "metadata": {},
   "outputs": [
    {
     "data": {
      "image/png": "[encoded data removed]",
      "text/plain": [
       "<Figure size 576x396 with 4 Axes>"
      ]
     },
     "metadata": {},
     "output_type": "display_data"
    }
   ],
   "source": [
    "# Overall distribution of each variable\n",
    "with plt.style.context('seaborn'):\n",
    "    df.drop('month', axis=1).hist(rwidth=0.9, bins=20)"
   ]
  },
  {
   "cell_type": "markdown",
   "id": "f4e890ae",
   "metadata": {},
   "source": [
    "There's an extremely strong correlation between minimum and maximum temperature and weaker ones between rainfall and sunshine duration, and between maximum temperature and sunshine duration. There's no real correlation between rainfall and temperature or between sun and minimum temperature."
   ]
  },
  {
   "cell_type": "code",
   "execution_count": 9,
   "id": "24e4aaa5",
   "metadata": {},
   "outputs": [
    {
     "data": {
      "image/png": "[encoded data removed]",
      "text/plain": [
       "<Figure size 432x288 with 2 Axes>"
      ]
     },
     "metadata": {
      "needs_background": "light"
     },
     "output_type": "display_data"
    }
   ],
   "source": [
    "# Examine correlations between variables\n",
    "corr = df.corr()\n",
    "sns.heatmap(abs(corr.round(2)), annot=True, linewidths=0.5, cmap='Blues', vmax=0.5)\n",
    "plt.show()"
   ]
  },
  {
   "cell_type": "markdown",
   "id": "d13b428b",
   "metadata": {},
   "source": [
    "General Steps\n",
    "1. Identify variables and give them types\n",
    "1. Identify distribution, mean, median, standard deviation for each variable\n",
    "1. Identify Relationships between variables"
   ]
  },
  {
   "cell_type": "markdown",
   "id": "7a160eac",
   "metadata": {},
   "source": [
    "Specific Steps\n",
    "The max temp, min temp, rainfall (mm), and the sun (hours) will be simulated for every day for one year. The granularity of the simulation will be one month. For the moment this will not be a moving window simply a calendar month.\n",
    "\n",
    "The variables will all be floats, except for the month which will be a string.\n",
    "\n",
    "The strategy will be to estimate the distribution, etc for each variable for each month and then to adjust the relationships between variables as necessary."
   ]
  },
  {
   "cell_type": "markdown",
   "id": "8df65768",
   "metadata": {},
   "source": [
    "### References\n",
    "\n",
    "[1] Met Eireann &mdash; Irish Meteorological Service, Historical Data [online]. Available from https://www.met.ie/climate/available-data/historical-data\n",
    "\n"
   ]
  },
  {
   "cell_type": "code",
   "execution_count": 122,
   "id": "1bd9e092",
   "metadata": {},
   "outputs": [
    {
     "name": "stdout",
     "output_type": "stream",
     "text": [
      "<class 'pandas.core.frame.DataFrame'>\n",
      "DatetimeIndex: 365 entries, 2020-12-01 to 2021-11-30\n",
      "Data columns (total 5 columns):\n",
      " #   Column  Non-Null Count  Dtype  \n",
      "---  ------  --------------  -----  \n",
      " 0   maxtp   365 non-null    float64\n",
      " 1   mintp   365 non-null    float64\n",
      " 2   rain    365 non-null    float64\n",
      " 3   sun     365 non-null    float64\n",
      " 4   month   365 non-null    int64  \n",
      "dtypes: float64(4), int64(1)\n",
      "memory usage: 17.1 KB\n"
     ]
    }
   ],
   "source": [
    "df.info()"
   ]
  },
  {
   "cell_type": "code",
   "execution_count": null,
   "id": "2a1d8bb5",
   "metadata": {},
   "outputs": [],
   "source": []
  }
 ],
 "metadata": {
  "kernelspec": {
   "display_name": "Python 3 (ipykernel)",
   "language": "python",
   "name": "python3"
  },
  "language_info": {
   "codemirror_mode": {
    "name": "ipython",
    "version": 3
   },
   "file_extension": ".py",
   "mimetype": "text/x-python",
   "name": "python",
   "nbconvert_exporter": "python",
   "pygments_lexer": "ipython3",
   "version": "3.10.1"
  }
 },
 "nbformat": 4,
 "nbformat_minor": 5
}
